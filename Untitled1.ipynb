{
  "nbformat": 4,
  "nbformat_minor": 0,
  "metadata": {
    "colab": {
      "provenance": []
    },
    "kernelspec": {
      "name": "python3",
      "display_name": "Python 3"
    },
    "language_info": {
      "name": "python"
    }
  },
  "cells": [
    {
      "cell_type": "code",
      "execution_count": null,
      "metadata": {
        "id": "z5uJ44CxtlVn"
      },
      "outputs": [],
      "source": []
    },
    {
      "cell_type": "code",
      "source": [
        "# Leia os valores de entrada\n",
        "x = int(input(\"Digite o valor de X: \"))\n",
        "y = int(input(\"Digite o valor de Y: \"))\n",
        "\n",
        "# Certifique-se de que x seja o menor e y o maior\n",
        "if x > y:\n",
        "    x, y = y, x\n",
        "\n",
        "# Itere pelos valores entre x e y (exclusivo)\n",
        "for num in range(x + 1, y):\n",
        "    # Verifique se o resto da divisão por 5 é 2 ou 3\n",
        "    if num % 5 == 2 or num % 5 == 3:\n",
        "        print(num)"
      ],
      "metadata": {
        "colab": {
          "base_uri": "https://localhost:8080/"
        },
        "id": "6PWiOW6ptmEd",
        "outputId": "ea72e6f8-b737-4fed-f620-69195389f886"
      },
      "execution_count": 1,
      "outputs": [
        {
          "output_type": "stream",
          "name": "stdout",
          "text": [
            "Digite o valor de X: 10\n",
            "Digite o valor de Y: 20\n",
            "12\n",
            "13\n",
            "17\n",
            "18\n"
          ]
        }
      ]
    }
  ]
}